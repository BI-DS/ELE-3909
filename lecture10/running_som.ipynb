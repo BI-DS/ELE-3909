{
  "nbformat": 4,
  "nbformat_minor": 0,
  "metadata": {
    "colab": {
      "provenance": [],
      "authorship_tag": "ABX9TyORzFa9uB/B4PWPndrfFRSZ",
      "include_colab_link": true
    },
    "kernelspec": {
      "name": "python3",
      "display_name": "Python 3"
    },
    "language_info": {
      "name": "python"
    }
  },
  "cells": [
    {
      "cell_type": "markdown",
      "metadata": {
        "id": "view-in-github",
        "colab_type": "text"
      },
      "source": [
        "<a href=\"https://colab.research.google.com/github/BI-DS/ELE-3909/blob/master/lecture10/running_som.ipynb\" target=\"_parent\"><img src=\"https://colab.research.google.com/assets/colab-badge.svg\" alt=\"Open In Colab\"/></a>"
      ]
    },
    {
      "cell_type": "markdown",
      "source": [
        "# Self-Organizing Maps (SOMs)\n",
        "\n",
        "Simple demostration of how to train a SOM on a dataset of different colors"
      ],
      "metadata": {
        "id": "gMj-2XLmat5-"
      }
    },
    {
      "cell_type": "code",
      "execution_count": 1,
      "metadata": {
        "colab": {
          "base_uri": "https://localhost:8080/"
        },
        "id": "l1DU1HQeZA0N",
        "outputId": "dd06a719-ec69-4d1f-aed3-9edb52dc26da"
      },
      "outputs": [
        {
          "output_type": "stream",
          "name": "stdout",
          "text": [
            "Cloning into 'ELE-3909'...\n",
            "remote: Enumerating objects: 250, done.\u001b[K\n",
            "remote: Counting objects: 100% (36/36), done.\u001b[K\n",
            "remote: Compressing objects: 100% (29/29), done.\u001b[K\n",
            "remote: Total 250 (delta 7), reused 20 (delta 3), pack-reused 214 (from 1)\u001b[K\n",
            "Receiving objects: 100% (250/250), 14.79 MiB | 9.31 MiB/s, done.\n",
            "Resolving deltas: 100% (98/98), done.\n"
          ]
        }
      ],
      "source": [
        "# clone repository\n",
        "!git clone https://github.com/BI-DS/ELE-3909.git"
      ]
    },
    {
      "cell_type": "code",
      "source": [
        "# move to right folder and install requirements\n",
        "%cd ELE-3909/som/python"
      ],
      "metadata": {
        "colab": {
          "base_uri": "https://localhost:8080/"
        },
        "id": "-Mw-rTolZIku",
        "outputId": "0ec6bcfd-6952-47ac-89b8-9bf3958761aa"
      },
      "execution_count": 2,
      "outputs": [
        {
          "output_type": "stream",
          "name": "stdout",
          "text": [
            "/content/ELE-3909/som/python\n"
          ]
        }
      ]
    },
    {
      "cell_type": "markdown",
      "source": [
        "Run the file `demo.py` and look at the output folder for some figures created as the SOM and K-means models are trainend"
      ],
      "metadata": {
        "id": "aTyKY32Za8bn"
      }
    },
    {
      "cell_type": "code",
      "source": [
        "!python demo.py"
      ],
      "metadata": {
        "colab": {
          "base_uri": "https://localhost:8080/"
        },
        "id": "l_Z0SRrtaJzA",
        "outputId": "73fbc913-193e-4b1b-ee0a-1658ace5dbb4"
      },
      "execution_count": 3,
      "outputs": [
        {
          "output_type": "stream",
          "name": "stdout",
          "text": [
            "creation of the directory ../output/ELE3909 failed\n",
            "Clipping input data to the valid range for imshow with RGB data ([0..1] for floats or [0..255] for integers).\n",
            "training epoch 5 out of 200 and qerror is 21.82\n",
            "training epoch 10 out of 200 and qerror is 16.83\n",
            "training epoch 15 out of 200 and qerror is 13.64\n",
            "training epoch 20 out of 200 and qerror is 11.35\n",
            "training epoch 25 out of 200 and qerror is 9.69\n",
            "training epoch 30 out of 200 and qerror is 8.46\n",
            "training epoch 35 out of 200 and qerror is 7.57\n",
            "training epoch 40 out of 200 and qerror is 6.92\n",
            "training epoch 45 out of 200 and qerror is 6.44\n",
            "training epoch 50 out of 200 and qerror is 6.09\n",
            "training epoch 55 out of 200 and qerror is 5.83\n",
            "training epoch 60 out of 200 and qerror is 5.64\n",
            "training epoch 65 out of 200 and qerror is 5.50\n",
            "training epoch 70 out of 200 and qerror is 5.39\n",
            "training epoch 75 out of 200 and qerror is 5.31\n",
            "training epoch 80 out of 200 and qerror is 5.25\n",
            "training epoch 85 out of 200 and qerror is 5.20\n",
            "training epoch 90 out of 200 and qerror is 5.16\n",
            "training epoch 95 out of 200 and qerror is 5.13\n",
            "training epoch 100 out of 200 and qerror is 5.11\n",
            "training epoch 105 out of 200 and qerror is 5.09\n",
            "training epoch 110 out of 200 and qerror is 5.08\n",
            "training epoch 115 out of 200 and qerror is 5.07\n",
            "training epoch 120 out of 200 and qerror is 5.06\n",
            "training epoch 125 out of 200 and qerror is 5.05\n",
            "training epoch 130 out of 200 and qerror is 5.05\n",
            "training epoch 135 out of 200 and qerror is 5.04\n",
            "training epoch 140 out of 200 and qerror is 5.04\n",
            "training epoch 145 out of 200 and qerror is 5.04\n",
            "training epoch 150 out of 200 and qerror is 5.04\n",
            "training epoch 155 out of 200 and qerror is 5.04\n",
            "training epoch 160 out of 200 and qerror is 5.04\n",
            "training epoch 165 out of 200 and qerror is 5.03\n",
            "training epoch 170 out of 200 and qerror is 5.03\n",
            "training epoch 175 out of 200 and qerror is 5.03\n",
            "training epoch 180 out of 200 and qerror is 5.03\n",
            "training epoch 185 out of 200 and qerror is 5.03\n",
            "training epoch 190 out of 200 and qerror is 5.03\n",
            "training epoch 195 out of 200 and qerror is 5.03\n",
            "training epoch 200 out of 200 and qerror is 5.03\n",
            "fitting 2 kmeans models\n",
            "min DB score 1.1058 for 3 clusters, and max score 1.4471\n",
            "min DB score 0.9063 for 8 clusters, and max score 1.0146\n",
            "optimal number of clusters is 8\n",
            "final som has a quatization error of 5.03\n"
          ]
        }
      ]
    }
  ]
}