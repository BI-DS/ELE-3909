{
  "nbformat": 4,
  "nbformat_minor": 0,
  "metadata": {
    "colab": {
      "provenance": [],
      "authorship_tag": "ABX9TyP/0bMWu51wfQvI4/Ltzx4o",
      "include_colab_link": true
    },
    "kernelspec": {
      "name": "python3",
      "display_name": "Python 3"
    },
    "language_info": {
      "name": "python"
    }
  },
  "cells": [
    {
      "cell_type": "markdown",
      "metadata": {
        "id": "view-in-github",
        "colab_type": "text"
      },
      "source": [
        "<a href=\"https://colab.research.google.com/github/BI-DS/ELE-3909/blob/master/lecture2/hiererchical_easy_example.ipynb\" target=\"_parent\"><img src=\"https://colab.research.google.com/assets/colab-badge.svg\" alt=\"Open In Colab\"/></a>"
      ]
    },
    {
      "cell_type": "code",
      "execution_count": null,
      "metadata": {
        "id": "4ZjLWA4vbz0U"
      },
      "outputs": [],
      "source": [
        "import numpy as np\n",
        "from scipy.spatial import distance_matrix as dm\n",
        "from scipy.cluster.hierarchy import dendrogram, linkage\n",
        "import matplotlib.pyplot as plt"
      ]
    },
    {
      "cell_type": "markdown",
      "source": [
        "# A simple example\n",
        "Let's look how can be achive the same clustering results but using in-build fucntions..."
      ],
      "metadata": {
        "id": "duMN6apJdT9k"
      }
    },
    {
      "cell_type": "code",
      "source": [
        "# define the pattern matrix\n",
        "pattern_mat = np.array([[1 ,7] ,[ -5 ,9] ,[ -9 ,4] ,[4 , -2]])\n",
        "\n",
        "# use the linkage function in scipy to calculate all distances at once\n",
        "P = linkage(pattern_mat, method='centroid', metric='euclidean')\n",
        "\n",
        "# plot the dendrogram\n",
        "dendrogram(P)\n",
        "plt.title('Centroid Linkage')\n",
        "plt.xlabel('Vector Index')\n",
        "plt.ylabel('Distance')\n",
        "plt.show()"
      ],
      "metadata": {
        "colab": {
          "base_uri": "https://localhost:8080/",
          "height": 476
        },
        "id": "a4vaDtzmcExB",
        "outputId": "2ae6aa88-8b81-4b36-a8c2-2e07720de2c9"
      },
      "execution_count": null,
      "outputs": [
        {
          "output_type": "display_data",
          "data": {
            "text/plain": [
              "<Figure size 640x480 with 1 Axes>"
            ],
            "image/png": "[encoded data removed]"
          },
          "metadata": {}
        }
      ]
    },
    {
      "cell_type": "markdown",
      "source": [
        "We can doble check that we obtain the same results...."
      ],
      "metadata": {
        "id": "gdALm4C2dvRw"
      }
    },
    {
      "cell_type": "code",
      "source": [
        "print(P)"
      ],
      "metadata": {
        "colab": {
          "base_uri": "https://localhost:8080/"
        },
        "id": "4TzSxAL7cjZu",
        "outputId": "46ca9771-f275-4e25-d453-d1a54bf7baa0"
      },
      "execution_count": null,
      "outputs": [
        {
          "output_type": "stream",
          "name": "stdout",
          "text": [
            "[[ 0.          1.          6.32455532  2.        ]\n",
            " [ 2.          4.          8.06225775  3.        ]\n",
            " [ 3.          5.         12.02312586  4.        ]]\n"
          ]
        }
      ]
    }
  ]
}