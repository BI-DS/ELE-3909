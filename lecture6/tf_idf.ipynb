{
  "nbformat": 4,
  "nbformat_minor": 0,
  "metadata": {
    "colab": {
      "provenance": [],
      "authorship_tag": "ABX9TyNZixPLMZ5OGOmVjIgG+lmK",
      "include_colab_link": true
    },
    "kernelspec": {
      "name": "python3",
      "display_name": "Python 3"
    },
    "language_info": {
      "name": "python"
    }
  },
  "cells": [
    {
      "cell_type": "markdown",
      "metadata": {
        "id": "view-in-github",
        "colab_type": "text"
      },
      "source": [
        "<a href=\"https://colab.research.google.com/github/BI-DS/ELE-3909/blob/master/lecture6/tf_idf.ipynb\" target=\"_parent\"><img src=\"https://colab.research.google.com/assets/colab-badge.svg\" alt=\"Open In Colab\"/></a>"
      ]
    },
    {
      "cell_type": "code",
      "execution_count": 7,
      "metadata": {
        "colab": {
          "base_uri": "https://localhost:8080/"
        },
        "id": "y4BpO1RzT_ow",
        "outputId": "747dbdf9-257f-4e08-8a53-454e3e426dcb"
      },
      "outputs": [
        {
          "output_type": "stream",
          "name": "stderr",
          "text": [
            "[nltk_data] Downloading package punkt to /root/nltk_data...\n",
            "[nltk_data]   Unzipping tokenizers/punkt.zip.\n"
          ]
        },
        {
          "output_type": "execute_result",
          "data": {
            "text/plain": [
              "True"
            ]
          },
          "metadata": {},
          "execution_count": 7
        }
      ],
      "source": [
        "from nltk.tokenize import word_tokenize\n",
        "import nltk\n",
        "import numpy as np\n",
        "import pandas as pd\n",
        "nltk.download('punkt')"
      ]
    },
    {
      "cell_type": "markdown",
      "source": [
        "# The Term Frequency - Inverse Document Frequency\n",
        "⭐ An easy implementation of the TF-IDF ⭐"
      ],
      "metadata": {
        "id": "0Mwth0rEcH2R"
      }
    },
    {
      "cell_type": "markdown",
      "source": [
        "Let's start with a simple corpus ..."
      ],
      "metadata": {
        "id": "7yddaCJOcZOt"
      }
    },
    {
      "cell_type": "code",
      "source": [
        "corpus = ['data science is one of the most important fields of science',\n",
        "          'this is one of the best data science courses',\n",
        "          'data scientists analyze data' ]"
      ],
      "metadata": {
        "id": "XgV_oazrUEt3"
      },
      "execution_count": 19,
      "outputs": []
    },
    {
      "cell_type": "markdown",
      "source": [
        "✅ Now let's get the unique words in the corpus"
      ],
      "metadata": {
        "id": "20a7VyOFcsSY"
      }
    },
    {
      "cell_type": "code",
      "source": [
        "words_set = []\n",
        "for i in range(len(corpus)):\n",
        "  print(corpus[i])\n",
        "  words_set.extend(word_tokenize(corpus[i]))\n",
        "unique_words = set(words_set)"
      ],
      "metadata": {
        "id": "KIWMNJ5PURLY"
      },
      "execution_count": null,
      "outputs": []
    },
    {
      "cell_type": "markdown",
      "source": [
        "Define the following:\n",
        "*   Number of documents in the corpus\n",
        "*   Number of unique words\n",
        "\n"
      ],
      "metadata": {
        "id": "PDh6hD16c0Jv"
      }
    },
    {
      "cell_type": "code",
      "source": [
        "n_docs = len(corpus)         #·Number of documents in the corpus\n",
        "n_words_set = len(unique_words) #·Number of unique words"
      ],
      "metadata": {
        "id": "xueib4AJUoye"
      },
      "execution_count": 72,
      "outputs": []
    },
    {
      "cell_type": "markdown",
      "source": [
        "## Calculate the 1st part: TF"
      ],
      "metadata": {
        "id": "Sl_O3P9IdJGI"
      }
    },
    {
      "cell_type": "code",
      "source": [
        "df_tf = pd.DataFrame(np.zeros((n_docs, n_words_set)), columns=list(unique_words))\n",
        "\n",
        "# Compute Term Frequency (TF)\n",
        "for i in range(n_docs):\n",
        "    words = corpus[i].split(' ') # Words in the document\n",
        "    for w in words:\n",
        "        df_tf[w][i] = df_tf[w][i] + (1 / len(words))\n",
        "print(df_tf)"
      ],
      "metadata": {
        "colab": {
          "base_uri": "https://localhost:8080/"
        },
        "id": "UE2LZXpJWNIM",
        "outputId": "84534fd3-9c21-4439-eae2-7ab2d2c7c7b4"
      },
      "execution_count": 76,
      "outputs": [
        {
          "output_type": "stream",
          "name": "stdout",
          "text": [
            "        one    fields       the  scientists      data        of   courses  \\\n",
            "0  0.090909  0.090909  0.090909        0.00  0.090909  0.181818  0.000000   \n",
            "1  0.111111  0.000000  0.111111        0.00  0.111111  0.111111  0.111111   \n",
            "2  0.000000  0.000000  0.000000        0.25  0.500000  0.000000  0.000000   \n",
            "\n",
            "         is      this   science  analyze  important      best      most  \n",
            "0  0.090909  0.000000  0.181818     0.00   0.090909  0.000000  0.090909  \n",
            "1  0.111111  0.111111  0.111111     0.00   0.000000  0.111111  0.000000  \n",
            "2  0.000000  0.000000  0.000000     0.25   0.000000  0.000000  0.000000  \n"
          ]
        }
      ]
    },
    {
      "cell_type": "markdown",
      "source": [
        "## Calculate the 2nd part: IDF"
      ],
      "metadata": {
        "id": "KjDhZV3ZdN0g"
      }
    },
    {
      "cell_type": "code",
      "source": [
        "idf = {}\n",
        "for w in words_set:\n",
        "    k = 0    # number of documents in the corpus that contain this word\n",
        "\n",
        "    for i in range(n_docs):\n",
        "        if w in corpus[i].split():\n",
        "            k += 1\n",
        "\n",
        "    idf[w] =  np.log10(n_docs / k)\n",
        "\n",
        "    print(f'{w:>15}: {idf[w]:>10}' )"
      ],
      "metadata": {
        "colab": {
          "base_uri": "https://localhost:8080/"
        },
        "id": "fP1ivkrFZsNT",
        "outputId": "6f5e86b4-bb1c-46f5-b2ac-88bb8e27352c"
      },
      "execution_count": 74,
      "outputs": [
        {
          "output_type": "stream",
          "name": "stdout",
          "text": [
            "           data:        0.0\n",
            "        science: 0.17609125905568124\n",
            "             is: 0.17609125905568124\n",
            "            one: 0.17609125905568124\n",
            "             of: 0.17609125905568124\n",
            "            the: 0.17609125905568124\n",
            "           most: 0.47712125471966244\n",
            "      important: 0.47712125471966244\n",
            "         fields: 0.47712125471966244\n",
            "             of: 0.17609125905568124\n",
            "        science: 0.17609125905568124\n",
            "           this: 0.47712125471966244\n",
            "             is: 0.17609125905568124\n",
            "            one: 0.17609125905568124\n",
            "             of: 0.17609125905568124\n",
            "            the: 0.17609125905568124\n",
            "           best: 0.47712125471966244\n",
            "           data:        0.0\n",
            "        science: 0.17609125905568124\n",
            "        courses: 0.47712125471966244\n",
            "           data:        0.0\n",
            "     scientists: 0.47712125471966244\n",
            "        analyze: 0.47712125471966244\n",
            "           data:        0.0\n"
          ]
        }
      ]
    },
    {
      "cell_type": "markdown",
      "source": [
        "## Now calculate TF * IDF"
      ],
      "metadata": {
        "id": "VXozI329dS6W"
      }
    },
    {
      "cell_type": "code",
      "source": [
        "df_tf_idf = df_tf.copy()\n",
        "\n",
        "for w in words_set:\n",
        "    for i in range(n_docs):\n",
        "        df_tf_idf[w][i] = df_tf[w][i] * idf[w]\n",
        "\n",
        "df_tf_idf"
      ],
      "metadata": {
        "colab": {
          "base_uri": "https://localhost:8080/",
          "height": 143
        },
        "id": "pJgi_QrWaGQa",
        "outputId": "34278f6a-7cef-462e-d8dd-86d1e6f5ec91"
      },
      "execution_count": 77,
      "outputs": [
        {
          "output_type": "execute_result",
          "data": {
            "text/plain": [
              "        one    fields       the  scientists  data        of   courses  \\\n",
              "0  0.016008  0.043375  0.016008     0.00000   0.0  0.032017  0.000000   \n",
              "1  0.019566  0.000000  0.019566     0.00000   0.0  0.019566  0.053013   \n",
              "2  0.000000  0.000000  0.000000     0.11928   0.0  0.000000  0.000000   \n",
              "\n",
              "         is      this   science  analyze  important      best      most  \n",
              "0  0.016008  0.000000  0.032017  0.00000   0.043375  0.000000  0.043375  \n",
              "1  0.019566  0.053013  0.019566  0.00000   0.000000  0.053013  0.000000  \n",
              "2  0.000000  0.000000  0.000000  0.11928   0.000000  0.000000  0.000000  "
            ],
            "text/html": [
              "\n",
              "  <div id=\"df-b182c2fa-8dd8-4711-869f-72a64dafecf9\" class=\"colab-df-container\">\n",
              "    <div>\n",
              "<style scoped>\n",
              "    .dataframe tbody tr th:only-of-type {\n",
              "        vertical-align: middle;\n",
              "    }\n",
              "\n",
              "    .dataframe tbody tr th {\n",
              "        vertical-align: top;\n",
              "    }\n",
              "\n",
              "    .dataframe thead th {\n",
              "        text-align: right;\n",
              "    }\n",
              "</style>\n",
              "<table border=\"1\" class=\"dataframe\">\n",
              "  <thead>\n",
              "    <tr style=\"text-align: right;\">\n",
              "      <th></th>\n",
              "      <th>one</th>\n",
              "      <th>fields</th>\n",
              "      <th>the</th>\n",
              "      <th>scientists</th>\n",
              "      <th>data</th>\n",
              "      <th>of</th>\n",
              "      <th>courses</th>\n",
              "      <th>is</th>\n",
              "      <th>this</th>\n",
              "      <th>science</th>\n",
              "      <th>analyze</th>\n",
              "      <th>important</th>\n",
              "      <th>best</th>\n",
              "      <th>most</th>\n",
              "    </tr>\n",
              "  </thead>\n",
              "  <tbody>\n",
              "    <tr>\n",
              "      <th>0</th>\n",
              "      <td>0.016008</td>\n",
              "      <td>0.043375</td>\n",
              "      <td>0.016008</td>\n",
              "      <td>0.00000</td>\n",
              "      <td>0.0</td>\n",
              "      <td>0.032017</td>\n",
              "      <td>0.000000</td>\n",
              "      <td>0.016008</td>\n",
              "      <td>0.000000</td>\n",
              "      <td>0.032017</td>\n",
              "      <td>0.00000</td>\n",
              "      <td>0.043375</td>\n",
              "      <td>0.000000</td>\n",
              "      <td>0.043375</td>\n",
              "    </tr>\n",
              "    <tr>\n",
              "      <th>1</th>\n",
              "      <td>0.019566</td>\n",
              "      <td>0.000000</td>\n",
              "      <td>0.019566</td>\n",
              "      <td>0.00000</td>\n",
              "      <td>0.0</td>\n",
              "      <td>0.019566</td>\n",
              "      <td>0.053013</td>\n",
              "      <td>0.019566</td>\n",
              "      <td>0.053013</td>\n",
              "      <td>0.019566</td>\n",
              "      <td>0.00000</td>\n",
              "      <td>0.000000</td>\n",
              "      <td>0.053013</td>\n",
              "      <td>0.000000</td>\n",
              "    </tr>\n",
              "    <tr>\n",
              "      <th>2</th>\n",
              "      <td>0.000000</td>\n",
              "      <td>0.000000</td>\n",
              "      <td>0.000000</td>\n",
              "      <td>0.11928</td>\n",
              "      <td>0.0</td>\n",
              "      <td>0.000000</td>\n",
              "      <td>0.000000</td>\n",
              "      <td>0.000000</td>\n",
              "      <td>0.000000</td>\n",
              "      <td>0.000000</td>\n",
              "      <td>0.11928</td>\n",
              "      <td>0.000000</td>\n",
              "      <td>0.000000</td>\n",
              "      <td>0.000000</td>\n",
              "    </tr>\n",
              "  </tbody>\n",
              "</table>\n",
              "</div>\n",
              "    <div class=\"colab-df-buttons\">\n",
              "\n",
              "  <div class=\"colab-df-container\">\n",
              "    <button class=\"colab-df-convert\" onclick=\"convertToInteractive('df-b182c2fa-8dd8-4711-869f-72a64dafecf9')\"\n",
              "            title=\"Convert this dataframe to an interactive table.\"\n",
              "            style=\"display:none;\">\n",
              "\n",
              "  <svg xmlns=\"http://www.w3.org/2000/svg\" height=\"24px\" viewBox=\"0 -960 960 960\">\n",
              "    <path d=\"M120-120v-720h720v720H120Zm60-500h600v-160H180v160Zm220 220h160v-160H400v160Zm0 220h160v-160H400v160ZM180-400h160v-160H180v160Zm440 0h160v-160H620v160ZM180-180h160v-160H180v160Zm440 0h160v-160H620v160Z\"/>\n",
              "  </svg>\n",
              "    </button>\n",
              "\n",
              "  <style>\n",
              "    .colab-df-container {\n",
              "      display:flex;\n",
              "      gap: 12px;\n",
              "    }\n",
              "\n",
              "    .colab-df-convert {\n",
              "      background-color: #E8F0FE;\n",
              "      border: none;\n",
              "      border-radius: 50%;\n",
              "      cursor: pointer;\n",
              "      display: none;\n",
              "      fill: #1967D2;\n",
              "      height: 32px;\n",
              "      padding: 0 0 0 0;\n",
              "      width: 32px;\n",
              "    }\n",
              "\n",
              "    .colab-df-convert:hover {\n",
              "      background-color: #E2EBFA;\n",
              "      box-shadow: 0px 1px 2px rgba(60, 64, 67, 0.3), 0px 1px 3px 1px rgba(60, 64, 67, 0.15);\n",
              "      fill: #174EA6;\n",
              "    }\n",
              "\n",
              "    .colab-df-buttons div {\n",
              "      margin-bottom: 4px;\n",
              "    }\n",
              "\n",
              "    [theme=dark] .colab-df-convert {\n",
              "      background-color: #3B4455;\n",
              "      fill: #D2E3FC;\n",
              "    }\n",
              "\n",
              "    [theme=dark] .colab-df-convert:hover {\n",
              "      background-color: #434B5C;\n",
              "      box-shadow: 0px 1px 3px 1px rgba(0, 0, 0, 0.15);\n",
              "      filter: drop-shadow(0px 1px 2px rgba(0, 0, 0, 0.3));\n",
              "      fill: #FFFFFF;\n",
              "    }\n",
              "  </style>\n",
              "\n",
              "    <script>\n",
              "      const buttonEl =\n",
              "        document.querySelector('#df-b182c2fa-8dd8-4711-869f-72a64dafecf9 button.colab-df-convert');\n",
              "      buttonEl.style.display =\n",
              "        google.colab.kernel.accessAllowed ? 'block' : 'none';\n",
              "\n",
              "      async function convertToInteractive(key) {\n",
              "        const element = document.querySelector('#df-b182c2fa-8dd8-4711-869f-72a64dafecf9');\n",
              "        const dataTable =\n",
              "          await google.colab.kernel.invokeFunction('convertToInteractive',\n",
              "                                                    [key], {});\n",
              "        if (!dataTable) return;\n",
              "\n",
              "        const docLinkHtml = 'Like what you see? Visit the ' +\n",
              "          '<a target=\"_blank\" href=https://colab.research.google.com/notebooks/data_table.ipynb>data table notebook</a>'\n",
              "          + ' to learn more about interactive tables.';\n",
              "        element.innerHTML = '';\n",
              "        dataTable['output_type'] = 'display_data';\n",
              "        await google.colab.output.renderOutput(dataTable, element);\n",
              "        const docLink = document.createElement('div');\n",
              "        docLink.innerHTML = docLinkHtml;\n",
              "        element.appendChild(docLink);\n",
              "      }\n",
              "    </script>\n",
              "  </div>\n",
              "\n",
              "\n",
              "<div id=\"df-a49c9e79-641e-410b-9d63-7c7a47b1888a\">\n",
              "  <button class=\"colab-df-quickchart\" onclick=\"quickchart('df-a49c9e79-641e-410b-9d63-7c7a47b1888a')\"\n",
              "            title=\"Suggest charts.\"\n",
              "            style=\"display:none;\">\n",
              "\n",
              "<svg xmlns=\"http://www.w3.org/2000/svg\" height=\"24px\"viewBox=\"0 0 24 24\"\n",
              "     width=\"24px\">\n",
              "    <g>\n",
              "        <path d=\"M19 3H5c-1.1 0-2 .9-2 2v14c0 1.1.9 2 2 2h14c1.1 0 2-.9 2-2V5c0-1.1-.9-2-2-2zM9 17H7v-7h2v7zm4 0h-2V7h2v10zm4 0h-2v-4h2v4z\"/>\n",
              "    </g>\n",
              "</svg>\n",
              "  </button>\n",
              "\n",
              "<style>\n",
              "  .colab-df-quickchart {\n",
              "      --bg-color: #E8F0FE;\n",
              "      --fill-color: #1967D2;\n",
              "      --hover-bg-color: #E2EBFA;\n",
              "      --hover-fill-color: #174EA6;\n",
              "      --disabled-fill-color: #AAA;\n",
              "      --disabled-bg-color: #DDD;\n",
              "  }\n",
              "\n",
              "  [theme=dark] .colab-df-quickchart {\n",
              "      --bg-color: #3B4455;\n",
              "      --fill-color: #D2E3FC;\n",
              "      --hover-bg-color: #434B5C;\n",
              "      --hover-fill-color: #FFFFFF;\n",
              "      --disabled-bg-color: #3B4455;\n",
              "      --disabled-fill-color: #666;\n",
              "  }\n",
              "\n",
              "  .colab-df-quickchart {\n",
              "    background-color: var(--bg-color);\n",
              "    border: none;\n",
              "    border-radius: 50%;\n",
              "    cursor: pointer;\n",
              "    display: none;\n",
              "    fill: var(--fill-color);\n",
              "    height: 32px;\n",
              "    padding: 0;\n",
              "    width: 32px;\n",
              "  }\n",
              "\n",
              "  .colab-df-quickchart:hover {\n",
              "    background-color: var(--hover-bg-color);\n",
              "    box-shadow: 0 1px 2px rgba(60, 64, 67, 0.3), 0 1px 3px 1px rgba(60, 64, 67, 0.15);\n",
              "    fill: var(--button-hover-fill-color);\n",
              "  }\n",
              "\n",
              "  .colab-df-quickchart-complete:disabled,\n",
              "  .colab-df-quickchart-complete:disabled:hover {\n",
              "    background-color: var(--disabled-bg-color);\n",
              "    fill: var(--disabled-fill-color);\n",
              "    box-shadow: none;\n",
              "  }\n",
              "\n",
              "  .colab-df-spinner {\n",
              "    border: 2px solid var(--fill-color);\n",
              "    border-color: transparent;\n",
              "    border-bottom-color: var(--fill-color);\n",
              "    animation:\n",
              "      spin 1s steps(1) infinite;\n",
              "  }\n",
              "\n",
              "  @keyframes spin {\n",
              "    0% {\n",
              "      border-color: transparent;\n",
              "      border-bottom-color: var(--fill-color);\n",
              "      border-left-color: var(--fill-color);\n",
              "    }\n",
              "    20% {\n",
              "      border-color: transparent;\n",
              "      border-left-color: var(--fill-color);\n",
              "      border-top-color: var(--fill-color);\n",
              "    }\n",
              "    30% {\n",
              "      border-color: transparent;\n",
              "      border-left-color: var(--fill-color);\n",
              "      border-top-color: var(--fill-color);\n",
              "      border-right-color: var(--fill-color);\n",
              "    }\n",
              "    40% {\n",
              "      border-color: transparent;\n",
              "      border-right-color: var(--fill-color);\n",
              "      border-top-color: var(--fill-color);\n",
              "    }\n",
              "    60% {\n",
              "      border-color: transparent;\n",
              "      border-right-color: var(--fill-color);\n",
              "    }\n",
              "    80% {\n",
              "      border-color: transparent;\n",
              "      border-right-color: var(--fill-color);\n",
              "      border-bottom-color: var(--fill-color);\n",
              "    }\n",
              "    90% {\n",
              "      border-color: transparent;\n",
              "      border-bottom-color: var(--fill-color);\n",
              "    }\n",
              "  }\n",
              "</style>\n",
              "\n",
              "  <script>\n",
              "    async function quickchart(key) {\n",
              "      const quickchartButtonEl =\n",
              "        document.querySelector('#' + key + ' button');\n",
              "      quickchartButtonEl.disabled = true;  // To prevent multiple clicks.\n",
              "      quickchartButtonEl.classList.add('colab-df-spinner');\n",
              "      try {\n",
              "        const charts = await google.colab.kernel.invokeFunction(\n",
              "            'suggestCharts', [key], {});\n",
              "      } catch (error) {\n",
              "        console.error('Error during call to suggestCharts:', error);\n",
              "      }\n",
              "      quickchartButtonEl.classList.remove('colab-df-spinner');\n",
              "      quickchartButtonEl.classList.add('colab-df-quickchart-complete');\n",
              "    }\n",
              "    (() => {\n",
              "      let quickchartButtonEl =\n",
              "        document.querySelector('#df-a49c9e79-641e-410b-9d63-7c7a47b1888a button');\n",
              "      quickchartButtonEl.style.display =\n",
              "        google.colab.kernel.accessAllowed ? 'block' : 'none';\n",
              "    })();\n",
              "  </script>\n",
              "</div>\n",
              "    </div>\n",
              "  </div>\n"
            ]
          },
          "metadata": {},
          "execution_count": 77
        }
      ]
    },
    {
      "cell_type": "markdown",
      "source": [
        "**What did we obtain?**"
      ],
      "metadata": {
        "id": "PQQ93BhgdfAf"
      }
    }
  ]
}