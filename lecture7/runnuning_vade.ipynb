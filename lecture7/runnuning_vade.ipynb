{
  "nbformat": 4,
  "nbformat_minor": 0,
  "metadata": {
    "colab": {
      "provenance": [],
      "gpuType": "T4",
      "authorship_tag": "ABX9TyMLN7J0pM407TqtKMqFv2J6",
      "include_colab_link": true
    },
    "kernelspec": {
      "name": "python3",
      "display_name": "Python 3"
    },
    "language_info": {
      "name": "python"
    },
    "accelerator": "GPU"
  },
  "cells": [
    {
      "cell_type": "markdown",
      "metadata": {
        "id": "view-in-github",
        "colab_type": "text"
      },
      "source": [
        "<a href=\"https://colab.research.google.com/github/BI-DS/ELE-3909/blob/master/lecture7/runnuning_vade.ipynb\" target=\"_parent\"><img src=\"https://colab.research.google.com/assets/colab-badge.svg\" alt=\"Open In Colab\"/></a>"
      ]
    },
    {
      "cell_type": "markdown",
      "source": [
        "# VADE\n",
        "\n",
        "We will simply pull the VADE model from our github repository following the instructions in the README file"
      ],
      "metadata": {
        "id": "GMLHIl8IvnC4"
      }
    },
    {
      "cell_type": "code",
      "execution_count": 1,
      "metadata": {
        "colab": {
          "base_uri": "https://localhost:8080/"
        },
        "id": "5a-7enXTvjn6",
        "outputId": "2e358303-cd94-41c8-f7d9-45f802ae3f5b"
      },
      "outputs": [
        {
          "output_type": "stream",
          "name": "stdout",
          "text": [
            "Cloning into 'ELE-3909'...\n",
            "remote: Enumerating objects: 214, done.\u001b[K\n",
            "remote: Counting objects: 100% (214/214), done.\u001b[K\n",
            "remote: Compressing objects: 100% (176/176), done.\u001b[K\n",
            "remote: Total 214 (delta 90), reused 89 (delta 24), pack-reused 0 (from 0)\u001b[K\n",
            "Receiving objects: 100% (214/214), 14.77 MiB | 17.94 MiB/s, done.\n",
            "Resolving deltas: 100% (90/90), done.\n"
          ]
        }
      ],
      "source": [
        "# clone repository\n",
        "!git clone https://github.com/BI-DS/ELE-3909.git"
      ]
    },
    {
      "cell_type": "code",
      "source": [
        "# move to right folder and install requirements\n",
        "%cd ELE-3909/vade/python\n",
        "!pip install -r requirements.txt"
      ],
      "metadata": {
        "id": "fBTbpCDFv6Hu"
      },
      "execution_count": null,
      "outputs": []
    },
    {
      "cell_type": "code",
      "source": [
        "# we need to move to right folder again\n",
        "%cd ELE-3909/vade/python"
      ],
      "metadata": {
        "colab": {
          "base_uri": "https://localhost:8080/"
        },
        "id": "QbfnAlVMwBPH",
        "outputId": "0f7f8316-caeb-4fd0-b812-f536d900ee03"
      },
      "execution_count": 1,
      "outputs": [
        {
          "output_type": "stream",
          "name": "stdout",
          "text": [
            "/content/ELE-3909/vade/python\n"
          ]
        }
      ]
    },
    {
      "cell_type": "markdown",
      "source": [
        "Since training the VADE model for 400 epochs takes long time in Google Colab, I prefere to run the test file..."
      ],
      "metadata": {
        "id": "3rIgnaCYwFi6"
      }
    },
    {
      "cell_type": "code",
      "source": [
        "!python test_vade.py"
      ],
      "metadata": {
        "colab": {
          "base_uri": "https://localhost:8080/"
        },
        "id": "CJtPWYWqwPeZ",
        "outputId": "a4939b08-a505-48e1-a09e-2e58d9a5b058"
      },
      "execution_count": 2,
      "outputs": [
        {
          "output_type": "stream",
          "name": "stdout",
          "text": [
            "Namespace(latent_dim=10, epochs=400, save_every=400, eval_every=50, K=10, alpha=35, batch_size=256, dset='mnist', output_folder='../output/vade', load_weights=False)\n",
            "Num GPUs: 0\n",
            "Creation of the directory ../output/vade  failed\n",
            "\u001b[1mDownloading and preparing dataset 11.06 MiB (download: 11.06 MiB, generated: 21.00 MiB, total: 32.06 MiB) to /root/tensorflow_datasets/mnist/3.0.1...\u001b[0m\n",
            "Dl Completed...: 100% 5/5 [00:00<00:00, 17.20 file/s]\n",
            "\u001b[1mDataset mnist downloaded and prepared to /root/tensorflow_datasets/mnist/3.0.1. Subsequent calls will reuse this data.\u001b[0m\n",
            "WARNING:tensorflow:From /usr/local/lib/python3.10/dist-packages/tensorflow_probability/python/distributions/distribution.py:342: calling MultivariateNormalDiag.__init__ (from tensorflow_probability.python.distributions.mvn_diag) with scale_identity_multiplier is deprecated and will be removed after 2020-01-01.\n",
            "Instructions for updating:\n",
            "`scale_identity_multiplier` is deprecated; please combine it into `scale_diag` directly instead.\n",
            "WARNING:tensorflow:From /usr/local/lib/python3.10/dist-packages/tensorflow_probability/python/distributions/distribution.py:342: calling MultivariateNormalDiag.__init__ (from tensorflow_probability.python.distributions.mvn_diag) with scale_identity_multiplier is deprecated and will be removed after 2020-01-01.\n",
            "Instructions for updating:\n",
            "`scale_identity_multiplier` is deprecated; please combine it into `scale_diag` directly instead.\n",
            "Model restored from ../output/vade/ckpts/ckpt-400\n",
            "cluster accuracy 0.8103\n",
            "plotting nice scatter...\n",
            "generating images from all clusters...\n",
            "elapsed time: 0:00:53.038683\n"
          ]
        }
      ]
    }
  ]
}