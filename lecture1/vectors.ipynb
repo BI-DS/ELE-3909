{
  "nbformat": 4,
  "nbformat_minor": 0,
  "metadata": {
    "colab": {
      "provenance": [],
      "authorship_tag": "ABX9TyPrGk51409oG5Ia97btfZz2"
    },
    "kernelspec": {
      "name": "python3",
      "display_name": "Python 3"
    },
    "language_info": {
      "name": "python"
    }
  },
  "cells": [
    {
      "cell_type": "code",
      "execution_count": null,
      "metadata": {
        "id": "Q9SUR7qUzcZS"
      },
      "outputs": [],
      "source": [
        "import numpy as np\n",
        "import matplotlib.pyplot as plt\n",
        "import math"
      ]
    },
    {
      "cell_type": "markdown",
      "source": [
        "\n",
        "**Just click the link to open the notebook in Colab**\n",
        "\n",
        "[![Open In Colab](https://colab.research.google.com/assets/colab-badge.svg)](https://colab.research.google.com/github/BI-DS/ELE-3909/blob/master/lecture1/vectors.ipynb)"
      ],
      "metadata": {
        "id": "BEU4R0wUHAow"
      }
    },
    {
      "cell_type": "markdown",
      "source": [
        "# Vectors\n",
        "\n",
        "Vectors are defined by the origin $(X,Y)$ and their vector components $(a_x, a_y)$"
      ],
      "metadata": {
        "id": "NcjQDP2j4jXm"
      }
    },
    {
      "cell_type": "code",
      "source": [
        "# origin for 2 vectors\n",
        "X = [0, 0]    # 1st element correspod to red vector\n",
        "Y = [0, 0]    # 1st element correspod to red vector\n",
        "# vector components\n",
        "U = [6, 8]    # 1st element correspod to red vector\n",
        "V = [6, 0]    # 1st element correspod to red vector\n",
        "\n",
        "# plot\n",
        "plt.quiver(X, Y, U, V, angles='xy', scale_units='xy', scale=1, color=['r','b'])\n",
        "plt.grid()\n",
        "plt.xlim([-1,9])\n",
        "plt.ylim([-1,9])\n",
        "plt.show()"
      ],
      "metadata": {
        "colab": {
          "base_uri": "https://localhost:8080/",
          "height": 430
        },
        "id": "VkxLl-D41heH",
        "outputId": "a3bab2ff-3d93-4b02-90ea-20c2423a6640"
      },
      "execution_count": null,
      "outputs": [
        {
          "output_type": "display_data",
          "data": {
            "text/plain": [
              "<Figure size 640x480 with 1 Axes>"
            ],
            "image/png": "[encoded data removed]"
          },
          "metadata": {}
        }
      ]
    },
    {
      "cell_type": "markdown",
      "source": [
        "## Magnitude and direction\n",
        "\n",
        "Both formulas are simple, hence I use `lambda function`notation.\n",
        "\n",
        " **Note:** the function `atan`, which is the inverse of tanget, returns values in radians. Hence we need to convert it to angles."
      ],
      "metadata": {
        "id": "-z51UhTlHCrl"
      }
    },
    {
      "cell_type": "code",
      "source": [
        "magnitude = lambda a_x, a_y: np.sqrt(a_x**2+a_y**2)\n",
        "direction = lambda a_x, a_y: math.degrees(math.atan(a_y/a_x))"
      ],
      "metadata": {
        "id": "WAnix_zGHo7k"
      },
      "execution_count": null,
      "outputs": []
    },
    {
      "cell_type": "code",
      "source": [
        "print('The magnitude of the red vector is {:.2f} and of the blue vector is \\\n",
        "{:.2f}'.format(magnitude(U[0],V[0]),magnitude(U[1],V[1])))\n",
        "print('The direction of the red vector is {:.2f} degrees and of the blue vector\\\n",
        " is {:.2f} degrees'.format(direction(U[0],V[0]),direction(U[1],V[1])))"
      ],
      "metadata": {
        "id": "pT3DubpGIEjr",
        "outputId": "7ab9e3ae-445d-4042-a1a1-5d261d98b5c6",
        "colab": {
          "base_uri": "https://localhost:8080/"
        }
      },
      "execution_count": null,
      "outputs": [
        {
          "output_type": "stream",
          "name": "stdout",
          "text": [
            "The magnitude of the red vector is 8.49 and of the blue vector is 8.00\n",
            "The direction of the red vector is 45.00 degrees and of the blue vector is 0.00 degrees\n"
          ]
        }
      ]
    }
  ]
}