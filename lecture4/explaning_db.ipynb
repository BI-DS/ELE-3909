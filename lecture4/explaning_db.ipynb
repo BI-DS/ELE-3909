{
  "nbformat": 4,
  "nbformat_minor": 0,
  "metadata": {
    "colab": {
      "provenance": [],
      "authorship_tag": "ABX9TyPxgnB+yRtZSxGHXH8Atq1n",
      "include_colab_link": true
    },
    "kernelspec": {
      "name": "python3",
      "display_name": "Python 3"
    },
    "language_info": {
      "name": "python"
    }
  },
  "cells": [
    {
      "cell_type": "markdown",
      "metadata": {
        "id": "view-in-github",
        "colab_type": "text"
      },
      "source": [
        "<a href=\"https://colab.research.google.com/github/BI-DS/ELE-3909/blob/master/lecture4/explaning_db.ipynb\" target=\"_parent\"><img src=\"https://colab.research.google.com/assets/colab-badge.svg\" alt=\"Open In Colab\"/></a>"
      ]
    },
    {
      "cell_type": "markdown",
      "source": [
        "# Davies-Bouldin Index"
      ],
      "metadata": {
        "id": "WkQhHF8dmGbC"
      }
    },
    {
      "cell_type": "markdown",
      "source": [
        "![clusters](https://drive.google.com/uc?id=1B7iC19aDatec4OWf5ZVQ8N7aeabTeC-x)"
      ],
      "metadata": {
        "id": "F7K7fqqpgwRs"
      }
    },
    {
      "cell_type": "markdown",
      "source": [
        "Supose we have the two scenarios above, in which we have 3 clusters with exactly the same dispersion and centroids (relative to the vectors in the cluster). The only difference is that in Scenario 2 clusters $C_2$ and $C_3$ are closer to cluter $C_1$.\n",
        "\n",
        "Let's calculate the index $R_{i,j}$ taking as reference the cluster $C_1$ in both scenarios:\n",
        "\n",
        "* Scenario 1:\n",
        "\n",
        "\\begin{equation}\n",
        "R_{1,2} = \\frac{s_1+s_2}{\\color{blue}{d_{1,2}}} \\\\\n",
        "R_{1,3} = \\frac{s_1+s_3}{\\color{blue}{d_{1,3}}}\n",
        "\\end{equation}\n",
        "\n",
        "* Scenario 2:\n",
        "\n",
        "\\begin{equation}\n",
        "R_{1,2} = \\frac{s_1+s_2}{\\color{red}{d_{1,2}}} \\\\\n",
        "R_{1,3} = \\frac{s_1+s_3}{\\color{red}{d_{1,3}}}\n",
        "\\end{equation}\n",
        "\n",
        "We know that $\\color{blue}{d_{1,2}}>\\color{red}{d_{1,2}}$ and $\\color{blue}{d_{1,3}}>\\color{red}{d_{1,3}}$ (the distances in $\\color{blue}{\\text{Scenario 1}}$ are larger than in $\\color{red}{\\text{Scenario 2}}$).\n",
        "\n",
        "Therefore, it must be true that $\\color{blue}{R_{1,2}}<\\color{red}{R_{1,2}}$ and $\\color{blue}{R_{1,3}}<\\color{red}{R_{1,3}}$, as $s_1$ and $s_2$ are exactly the same in both scenarios. The same reasoning is true if we take as reference $C_2$ or $C_3$.\n",
        "\n",
        "The matrix with all $R_{i,j}$ in both scenarios looks like this\n",
        "\n",
        "$$\\begin{bmatrix}\n",
        "R_{1,1} & R_{1,2} & R_{1,3} \\\\\n",
        "R_{2,1} & R_{2,2} & R_{2,3} \\\\\n",
        "R_{3,1} & R_{3,2} & R_{3,3} \\\\\n",
        "\\end{bmatrix}$$\n",
        "\n",
        "and we know that (almost) all of the $R_{i,j}$ values are smaller in Scenario 1 ($R_{2,3}$, and so $R_{3,2}$, have the same values in both snerios). Now we need to find the largest $R_{i,j}$ value for each row.\n",
        "\n",
        "At this point we can calculate the DB index in the first scenario\n",
        "\\begin{equation}\n",
        "\\color{blue}{DB = \\frac{1}{3} R_{1}+R_{2}+R_3}\n",
        "\\end{equation}\n",
        "and in the second scenario\n",
        "\\begin{equation}\n",
        "\\color{red}{DB = \\frac{1}{3} R_{1}+R_{2}+R_3}\n",
        "\\end{equation}\n",
        "It must be true that\n",
        "\\begin{equation}\n",
        "\\color{blue}{DB}<\\color{red}{DB}.\n",
        "\\end{equation}\n",
        "\n",
        "**Conclusion:** Scenario 1 has the smallest Davies-Bouldin index, as clusters are more distant from each other. The Davies-Bouldin index is a $\\color{purple}{\\text{similarity}}$ measure, and we would like to obtain the minimum possible similar custers.Therefore, we select the scenario with smallest Davies-Bouldin index.\n",
        "\n",
        "**Why is the Davies-Bouldin index a similarity measure?** Note that we can rewrite $R_{i,j}$ as\n",
        "\\begin{equation}\n",
        "R_{i,j} = (s_i,+s_j)*\\frac{1}{d_{i,j}}\n",
        "\\end{equation}\n",
        "where $\\frac{1}{d_{i,j}}$ is called the *reciprocal* of the distance $d_{i,j}$. The reciprocal of a dissimilarity quantity is a simillarity measure 🔥!"
      ],
      "metadata": {
        "id": "NtKQDtiWmQtR"
      }
    }
  ]
}